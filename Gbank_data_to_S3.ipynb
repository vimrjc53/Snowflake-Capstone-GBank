{
 "cells": [
  {
   "cell_type": "code",
   "execution_count": null,
   "id": "bdb09dba-a491-4052-8bcd-ade55159de96",
   "metadata": {},
   "outputs": [],
   "source": [
    "#upload files from local to S3\n",
    "!pip install boto3"
   ]
  },
  {
   "cell_type": "code",
   "execution_count": null,
   "id": "24d13d06-c15b-403a-9b44-838c42985393",
   "metadata": {},
   "outputs": [],
   "source": [
    "from boto3.s3.transfer import S3Transfer\n",
    " \n",
    "import boto3\n",
    " \n",
    "def upload_files(path,bucket_name,folder,file):\n",
    " \n",
    "    client = boto3.client('s3', aws_access_key_id='xxxxxx',aws_secret_access_key='xxxxxx')\n",
    " \n",
    "    transfer = S3Transfer(client)\n",
    " \n",
    "    transfer.upload_file(path, bucket_name, folder + file)\n",
    "\n",
    "upload_files('C:\\Users\\vimalrajch\\OneDrive - Maveric Systems Limited\\Documents\\Capstone\\transactions.csv','aws-gbank-csv','aws-gbank-raw-data-csv/transactions.csv','transactions.csv')\n",
    " "
   ]
  },
  {
   "cell_type": "code",
   "execution_count": null,
   "id": "2f375542-6400-4c29-aae3-a783372aed5e",
   "metadata": {},
   "outputs": [],
   "source": [
    "## or ##"
   ]
  },
  {
   "cell_type": "code",
   "execution_count": null,
   "id": "c139135f-5d41-424a-b8fa-1dc32784d9e6",
   "metadata": {},
   "outputs": [],
   "source": [
    "#upload transactions.csv file form local to S3 bucket\n",
    "import boto3\n",
    "from botocore.exceptions import ClientError\n",
    "\n",
    "def upload_file_to_s3(local_file_path, bucket_name, s3_file_key):\n",
    "    # Create an S3 client\n",
    "    s3_client = boto3.client('s3')\n",
    "    \n",
    "    try:\n",
    "        # Upload file to S3 bucket\n",
    "        s3_client.upload_file(local_file_path, bucket_name, s3_file_key)\n",
    "        print(f\"File '{local_file_path}' uploaded to bucket '{bucket_name}' as '{s3_file_key}'.\")\n",
    "    except FileNotFoundError:\n",
    "        print(f\"The file '{local_file_path}' was not found.\")\n",
    "    except ClientError as e:\n",
    "        print(f\"An error occurred: {e}\")\n",
    "\n",
    "# Upload transactions.csv file\n",
    "local_file_path = 'C:/Users/vimalrajch/OneDrive - Maveric Systems Limited/Documents/Capstone/transactions.csv'\n",
    "bucket_name = 'aws-gbank-csv'\n",
    "s3_file_key = 'aws-gbank-raw-data-csv/transactions.csv'\n",
    "\n",
    "upload_file_to_s3(local_file_path, bucket_name, s3_file_key)"
   ]
  },
  {
   "cell_type": "code",
   "execution_count": null,
   "id": "be7b3bee-9438-4b6d-a339-250cdebb3463",
   "metadata": {},
   "outputs": [],
   "source": []
  }
 ],
 "metadata": {
  "kernelspec": {
   "display_name": "Python 3 (ipykernel)",
   "language": "python",
   "name": "python3"
  },
  "language_info": {
   "codemirror_mode": {
    "name": "ipython",
    "version": 3
   },
   "file_extension": ".py",
   "mimetype": "text/x-python",
   "name": "python",
   "nbconvert_exporter": "python",
   "pygments_lexer": "ipython3",
   "version": "3.12.5"
  }
 },
 "nbformat": 4,
 "nbformat_minor": 5
}
